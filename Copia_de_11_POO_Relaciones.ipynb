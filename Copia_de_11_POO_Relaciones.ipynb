{
  "nbformat": 4,
  "nbformat_minor": 0,
  "metadata": {
    "colab": {
      "private_outputs": true,
      "provenance": [],
      "include_colab_link": true
    },
    "kernelspec": {
      "name": "python3",
      "display_name": "Python 3"
    },
    "language_info": {
      "name": "python"
    }
  },
  "cells": [
    {
      "cell_type": "markdown",
      "metadata": {
        "id": "view-in-github",
        "colab_type": "text"
      },
      "source": [
        "<a href=\"https://colab.research.google.com/github/ifconfig68/POO_UCC/blob/main/Copia_de_11_POO_Relaciones.ipynb\" target=\"_parent\"><img src=\"https://colab.research.google.com/assets/colab-badge.svg\" alt=\"Open In Colab\"/></a>"
      ]
    },
    {
      "cell_type": "markdown",
      "source": [
        "![M I S I Ó N.png](data:image/png;base64,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)"
      ],
      "metadata": {
        "id": "yDkJX9OencK3"
      }
    },
    {
      "cell_type": "markdown",
      "source": [
        "# Relaciones en la POO\n",
        "\n",
        "En el mundo de la Programación Orientada a Objetos tenemos diferentes tipos de relaciones en las que cada una tiene un significado semántico y una consecuencia en código.  Veremos cómo implementar cada una de ellas en Python."
      ],
      "metadata": {
        "id": "h4cmMWKYFzFR"
      }
    },
    {
      "cell_type": "markdown",
      "source": [
        "## Herencia\n",
        "\n",
        "Le permite a una clase (subclase) heredar las características y el comportamiento de otra clase (superclase).\n",
        "\n",
        "Sintaxis:\n",
        "\n",
        "\n",
        "\n",
        "```\n",
        "class Subclase (Superclase):\n",
        "```\n",
        "Ejemplo:"
      ],
      "metadata": {
        "id": "QGqDhG9IGM22"
      }
    },
    {
      "cell_type": "markdown",
      "source": [
        "![her1.png](data:image/png;base64,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)"
      ],
      "metadata": {
        "id": "ATcGOIarkOW6"
      }
    },
    {
      "cell_type": "code",
      "source": [
        "class Persona:   #esta es la superclase\n",
        "\n",
        "  def __init__(self, nombre, edad):  #constructor de la superclase\n",
        "    self.__nombre = nombre\n",
        "    self.__edad = edad\n",
        "\n",
        "  def cumplir_anos(self):\n",
        "    self.__edad += 1\n",
        "\n",
        "  def devolver_nombre(self):\n",
        "    return self.__nombre\n",
        "\n",
        "  def devolver_edad(self):\n",
        "    return self.__edad\n",
        "######################################################################\n",
        "class Empleado(Persona):  #esta es la subclase Empleado que hereda de Persona\n",
        "  pass\n",
        "\n",
        "###########################################\n",
        "emp = Empleado (\"Juan\", 30)  #se crea un empleado (sublcase)\n",
        "emp.cumplir_anos() #se llama al método heredado de la superclase\n",
        "emp.salario = 1_500_000\n",
        "print (f\"nombre del empleado: {emp.devolver_nombre()}\")\n",
        "print (f\"edad del empleado: {emp.devolver_edad()}\")\n",
        "print (f\"salario del empleado: {emp.salario}\")\n"
      ],
      "metadata": {
        "id": "k2HslWiVgkxP"
      },
      "execution_count": null,
      "outputs": []
    },
    {
      "cell_type": "markdown",
      "source": [
        "### super()"
      ],
      "metadata": {
        "id": "K0rqXmuZt2di"
      }
    },
    {
      "cell_type": "markdown",
      "source": [
        "**La función super()** permite acceder a los miembros de la superclase, entre ellos su constructor."
      ],
      "metadata": {
        "id": "VZSwcXndqdIS"
      }
    },
    {
      "cell_type": "code",
      "source": [
        "class Persona:\n",
        "\n",
        "  def __init__(self, nombre, edad):  #constructor de la superclase\n",
        "    self.__nombre = nombre\n",
        "    self.__edad = edad\n",
        "\n",
        "  def cumplir_anos(self):\n",
        "    self.__edad += 1\n",
        "\n",
        "  def devolver_nombre(self):\n",
        "    return self.__nombre\n",
        "\n",
        "  def devolver_edad(self):\n",
        "    return self.__edad\n",
        "\n",
        "class Empleado(Persona):\n",
        "  def __init__(self, nombre, edad, salario): #constructor de la subclase\n",
        "    super().__init__(nombre, edad)  #envía el nombre y edad al constructor de la superclase\n",
        "    self.__salario = salario\n",
        "\n",
        "  def devolver_salario(self):\n",
        "    return self.__salario\n",
        "\n",
        "###########################################\n",
        "emp = Empleado (\"Juan\", 30, 1_500_000)  #se crea un empleado (sublcase)\n",
        "emp.cumplir_anos()\n",
        "print (f\"nombre del empleado: {emp.devolver_nombre()}\")\n",
        "print (f\"edad del empleado: {emp.devolver_edad()}\")\n",
        "print (f\"salario del empleado: {emp.devolver_salario()}\")"
      ],
      "metadata": {
        "id": "TQtd57Blp4GL"
      },
      "execution_count": null,
      "outputs": []
    },
    {
      "cell_type": "markdown",
      "source": [
        "### issubclass()"
      ],
      "metadata": {
        "id": "MkLILXbet-K0"
      }
    },
    {
      "cell_type": "markdown",
      "source": [
        "**issubclass()** es una función que nos permite comprobar si una clase es subclase de otra.  "
      ],
      "metadata": {
        "id": "u7q5kPGNcZog"
      }
    },
    {
      "cell_type": "code",
      "source": [
        "print (issubclass(Empleado, Persona))\n",
        "print (issubclass(Persona, Empleado))"
      ],
      "metadata": {
        "id": "JuR5mK25eF04"
      },
      "execution_count": null,
      "outputs": []
    },
    {
      "cell_type": "markdown",
      "source": [
        "### Herencia múltiple"
      ],
      "metadata": {
        "id": "xbcvFWA7tvrr"
      }
    },
    {
      "cell_type": "markdown",
      "source": [
        "En Python la herencia múltiple es permitida y se define simplemente enviando varias superclases entre paréntesis al momento de crear una subclase\n",
        "\n",
        "\n",
        "\n",
        "```\n",
        "class Subclase (Superclase1, Superclase2, Superclase_n):\n",
        "    pass\n",
        "```\n",
        "\n"
      ],
      "metadata": {
        "id": "-8UK4K9PPdBx"
      }
    },
    {
      "cell_type": "markdown",
      "source": [
        "![her2.png](data:image/png;base64,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)"
      ],
      "metadata": {
        "id": "8bQOh9wgm4Qr"
      }
    },
    {
      "cell_type": "code",
      "source": [
        "class Persona:\n",
        "    def __init__(self, nombre, edad):\n",
        "        self.nombre = nombre\n",
        "        self.edad = edad\n",
        "\n",
        "class Musico:\n",
        "    def __init__(self, instrumento, genero):\n",
        "        self.instrumento = instrumento\n",
        "        self.genero = genero\n",
        "\n",
        "class Estudiante:\n",
        "    def __init__(self, escuela, promedio):\n",
        "        self.escuela = escuela\n",
        "        self.promedio = promedio\n",
        "\n",
        "class EstudianteMusico(Persona, Musico, Estudiante):\n",
        "    def __init__(self, nombre, edad, instrumento, genero, escuela, promedio):\n",
        "        Persona.__init__(self, nombre, edad)\n",
        "        Musico.__init__(self, instrumento, genero)\n",
        "        Estudiante.__init__(self, escuela, promedio)\n",
        "\n",
        "    def tocar_instrumento(self):\n",
        "        print(f\"{self.nombre} está tocando el {self.instrumento}.\")\n",
        "\n",
        "    def estudiar(self):\n",
        "        print(f\"{self.nombre} está estudiando en {self.escuela}.\")\n",
        "\n",
        "    def mostrar_promedio(self):\n",
        "        print(f\"{self.nombre} tiene un promedio de {self.promedio}.\")\n",
        "##########################################################################\n",
        "est_musico = EstudianteMusico(\"Juan\",28,\"guitarra\",\"balada\",\"bellas artes\",4.5)\n",
        "est_musico.tocar_instrumento()\n",
        "est_musico.estudiar()\n",
        "est_musico.mostrar_promedio()"
      ],
      "metadata": {
        "id": "kplGdhT_V_f4"
      },
      "execution_count": null,
      "outputs": []
    },
    {
      "cell_type": "markdown",
      "source": [
        "Cuando las superclases tienen los mismos métodos ¿cómo hace la subclase para saber cuál de los métodos debe invocar?"
      ],
      "metadata": {
        "id": "8ykLJuFwuF2T"
      }
    },
    {
      "cell_type": "code",
      "source": [
        "class A:\n",
        "  def metodo(self):\n",
        "    print (\"Soy el metodo de la clase A\")\n",
        "\n",
        "class B:\n",
        "  def metodo(self):\n",
        "    print (\"Soy el metodo de la clase B\")\n",
        "\n",
        "class C(A, B):\n",
        "  def llamada_metodo(self):\n",
        "    A.metodo(self)   #A y B tienen el método (metodo()), a cuál llamará?\n",
        "    B.metodo(self)\n",
        "\n",
        "mi_c = C()\n",
        "mi_c.llamada_metodo()"
      ],
      "metadata": {
        "id": "qcCkfFjJaYI5"
      },
      "execution_count": null,
      "outputs": []
    },
    {
      "cell_type": "markdown",
      "source": [
        "## Asociación\n",
        "\n",
        "Una asociación es una relación semántica entre objetos y se da cuando un objeto conoce a otro objeto y por lo tanto puede acceder a su comportamiento.\n",
        "\n"
      ],
      "metadata": {
        "id": "UBlM8NbHeMvY"
      }
    },
    {
      "cell_type": "markdown",
      "source": [
        "### Asociaciones Unidireccionales\n",
        "\n",
        "Si la asociación es unidireccional, solo el objeto A conoce al objeto B, pero si es bidireccional tanto A como B se conocen.  \n",
        "\n",
        "En la siguiente asociación entre Persona y Vehiculo, la Persona conoce el Vehiculo y por lo tanto, puede acceder a su comportamiento, mas el Vehiculo no conoce a la Persona"
      ],
      "metadata": {
        "id": "A6WVmDYnhIXS"
      }
    },
    {
      "cell_type": "markdown",
      "source": [
        "![aso1.png](data:image/png;base64,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)"
      ],
      "metadata": {
        "id": "dVx4laFPnhba"
      }
    },
    {
      "cell_type": "code",
      "source": [
        "class Vehiculo:\n",
        "    def __init__(self, modelo):\n",
        "        self.modelo = modelo\n",
        "\n",
        "class Persona:\n",
        "    def __init__(self, nombre):\n",
        "        self.nombre = nombre\n",
        "        self.vehiculo = None\n",
        "\n",
        "    def comprar_vehiculo(self, vehiculo:Vehiculo):\n",
        "        self.vehiculo = vehiculo\n",
        "\n",
        "    def conducir_vehiculo(self):\n",
        "        if self.vehiculo is not None:\n",
        "            print(f\"{self.nombre} está conduciendo un vehículo {self.vehiculo.modelo}\")\n",
        "        else:\n",
        "            print(f\"{self.nombre} no tiene un vehículo para conducir\")\n",
        "#########################################################################\n",
        "\n",
        "persona1 = Persona(\"Juan\")\n",
        "vehiculo1 = Vehiculo(\"Toyota\")\n",
        "persona1.comprar_vehiculo(vehiculo1)\n",
        "persona1.conducir_vehiculo()\n",
        "\n",
        "persona2 = Persona(\"Pedro\")\n",
        "persona2.conducir_vehiculo()"
      ],
      "metadata": {
        "id": "MYLDzeNhgQH3"
      },
      "execution_count": null,
      "outputs": []
    },
    {
      "cell_type": "markdown",
      "source": [
        "### Asociaciones Bidireccionales\n",
        "\n",
        "Si la asociación es bidireccional, el objeto A conoce al objeto B y el objeto B conoce al objeto A.  \n",
        "\n",
        "En la siguiente asociación entre Persona y Celular, la Persona conoce el Celular asignado y por lo tanto, puede acceder a su comportamiento, además, el Celular conoce a la Persona (propietario)."
      ],
      "metadata": {
        "id": "PUgK_ufkU3RB"
      }
    },
    {
      "cell_type": "markdown",
      "source": [
        "![aso2.png](data:image/png;base64,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)"
      ],
      "metadata": {
        "id": "AOO8llPJogij"
      }
    },
    {
      "cell_type": "code",
      "source": [
        "class Persona:\n",
        "    def __init__(self, nombre, celular=None):\n",
        "        self.nombre = nombre\n",
        "        if celular is not None:\n",
        "            self.set_celular(celular)\n",
        "\n",
        "    def set_celular(self, celular):\n",
        "        self.celular = celular\n",
        "        celular.set_propietario(self)\n",
        "\n",
        "    def ver_info(self):\n",
        "        if self.celular is not None:\n",
        "            return f\"{self.nombre} tiene el celular {self.celular.numero}\"\n",
        "        else:\n",
        "            return f\"{self.nombre} no tiene celular\"\n",
        "\n",
        "\n",
        "class Celular:\n",
        "    def __init__(self, numero):\n",
        "        self.numero = numero\n",
        "        self.propietario = None\n",
        "\n",
        "    def set_propietario(self, propietario:Persona):\n",
        "        self.propietario = propietario\n",
        "\n",
        "    def ver_info(self):\n",
        "        if self.propietario is not None:\n",
        "            return f\"El celular {self.numero} pertenece a {self.propietario.nombre}\"\n",
        "        else:\n",
        "            return f\"El celular {self.numero} no tiene propietario\"\n",
        "#####################################################################\n",
        "p = Persona (\"Juan\")\n",
        "c = Celular (3002350020)\n",
        "p.set_celular(c)\n",
        "print(p.ver_info())\n",
        "print(c.ver_info())"
      ],
      "metadata": {
        "id": "hYcnxl_Plq9T"
      },
      "execution_count": null,
      "outputs": []
    },
    {
      "cell_type": "markdown",
      "source": [
        "## Agregación\n",
        "\n",
        "Una Agregación es una relación entre dos clases en la que una clase contiene una o varias instancias de otra clase como parte de su estructura. La clase que contiene las instancias de otra clase se llama clase contenedora o clase agregadora, mientras que la clase contenida se llama clase contenida o clase agregada.\n",
        "\n",
        "En el siguiente ejemplo, una instancia de la clase Persona contiene varios objetos de tipo Celular"
      ],
      "metadata": {
        "id": "63BWL-ZMng4M"
      }
    },
    {
      "cell_type": "markdown",
      "source": [
        "![agr.png](data:image/png;base64,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)"
      ],
      "metadata": {
        "id": "KXVicz2To9As"
      }
    },
    {
      "cell_type": "code",
      "source": [
        "class Celular:\n",
        "    def __init__(self, numero):\n",
        "        self.numero = numero\n",
        "\n",
        "class Persona:\n",
        "    def __init__(self, nombre):\n",
        "        self.nombre = nombre\n",
        "        self.celulares = []\n",
        "\n",
        "    def agregar_celular(self, celular):\n",
        "        self.celulares.append(celular)\n",
        "\n",
        "    def mostrar_celulares(self):\n",
        "        print (\"celulares de \", self)\n",
        "        for cel in self.celulares:\n",
        "          print (cel.numero)\n",
        "\n",
        "    def __str__(self):\n",
        "      return self.nombre\n",
        "#####################################################\n",
        "p = Persona (\"Juan\")\n",
        "c1 = Celular (300248)\n",
        "c2 = Celular (320789)\n",
        "c3 = Celular (311445)\n",
        "\n",
        "p.agregar_celular(c1)\n",
        "p.agregar_celular(c2)\n",
        "p.agregar_celular(c3)\n",
        "\n",
        "p.mostrar_celulares()\n",
        "\n",
        "print (c1.numero)\n"
      ],
      "metadata": {
        "id": "PbtwI9CHqPmJ"
      },
      "execution_count": null,
      "outputs": []
    },
    {
      "cell_type": "markdown",
      "source": [
        "Nótese que los objetos de tipo Celular existen por fuera de la clase Persona y su existencia no se limita a la existencia de la clase contenedora."
      ],
      "metadata": {
        "id": "OaOC3AaE6cbp"
      }
    },
    {
      "cell_type": "markdown",
      "source": [
        "## Composición\n",
        "\n",
        "En POO, la relación de composición es una relación entre dos clases en la que una clase contiene a otra clase como parte de su estructura y es responsable de crear y destruir las instancias de la clase contenida. La clase contenida no puede existir sin la clase contenedora y está completamente encapsulada dentro de ella.\n",
        "\n",
        "En el siguiente ejemplo, los objetos de la clase Celular son creados en el constructor de la clase Persona, de esta manera no pueden existir de manera independiente y al eliminar una instancia de la clase Persona, se eliminarán todos los objetos Celular contenidos.\n",
        "\n"
      ],
      "metadata": {
        "id": "-1j5h6n-wz5_"
      }
    },
    {
      "cell_type": "code",
      "source": [
        "class Celular:\n",
        "    def __init__(self, numero):\n",
        "        self.numero = numero\n",
        "\n",
        "class Persona:\n",
        "    def __init__(self, nombre, numero_cel):\n",
        "        self.nombre = nombre\n",
        "        self.celular = Celular(numero_cel)\n",
        "\n",
        "    def ver_info(self):\n",
        "      print (f\"soy {self.nombre} y tengo un celular número {self.celular.numero}\")\n",
        "#################################################################\n",
        "p = Persona(\"Juan\", 300245)\n",
        "p.ver_info()\n",
        "print(celular.numero)"
      ],
      "metadata": {
        "id": "ZUBLhF8q8jjM"
      },
      "execution_count": null,
      "outputs": []
    },
    {
      "cell_type": "markdown",
      "source": [
        "Ahora con varios celulares"
      ],
      "metadata": {
        "id": "2Av9CysH-HQL"
      }
    },
    {
      "cell_type": "code",
      "source": [
        "class Celular:\n",
        "    def __init__(self, numero):\n",
        "        self.numero = numero\n",
        "\n",
        "class Persona:\n",
        "    def __init__(self, nombre):\n",
        "        self.nombre = nombre\n",
        "        self.celulares=[]\n",
        "\n",
        "    def agregar_celular(self, numero):\n",
        "        self.celulares.append(Celular(numero))\n",
        "\n",
        "    def mostrar_celulares(self):\n",
        "        print (\"celulares de \", self)\n",
        "        for cel in self.celulares:\n",
        "          print (cel.numero)\n",
        "\n",
        "    def __str__(self):\n",
        "      return self.nombre\n",
        "\n",
        "\n",
        "p = Persona (\"Pedro\")\n",
        "p.agregar_celular(320865)\n",
        "p.agregar_celular(300546)\n",
        "p.agregar_celular(310892)\n",
        "\n",
        "p.mostrar_celulares()\n",
        "\n",
        "print (f\"El primer celular de {p.nombre} es {p.celulares[0].numero}\")"
      ],
      "metadata": {
        "id": "KJY5qbDE-J07"
      },
      "execution_count": null,
      "outputs": []
    },
    {
      "cell_type": "markdown",
      "source": [
        "# Apropiación"
      ],
      "metadata": {
        "id": "fYr2uZJUASib"
      }
    },
    {
      "cell_type": "markdown",
      "source": [
        "1.  A partir del siguiente diagrama:\n"
      ],
      "metadata": {
        "id": "xhQwApF11ojI"
      }
    },
    {
      "cell_type": "markdown",
      "source": [
        "![dia1.png](data:image/png;base64,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)"
      ],
      "metadata": {
        "id": "01CXbTAn2mW4"
      }
    },
    {
      "cell_type": "markdown",
      "source": [
        "Cree las clases Banco y Cliente para que respondan al diagrama y agregue los elementos adicionales que se requieran para generar un menú con las siguientes opciones:\n",
        "\n",
        "\n",
        "\n",
        "```\n",
        "1. Crear Banco\n",
        "2. Agregar Cliente a un Banco\n",
        "3. Ver los clientes de un Banco\n",
        "4. Obtener el número de clientes de un Banco\n",
        "5. Salir\n",
        "```\n",
        "\n"
      ],
      "metadata": {
        "id": "JUTuLzsO10JI"
      }
    },
    {
      "cell_type": "code",
      "source": [],
      "metadata": {
        "id": "LE80Axmt7eiT"
      },
      "execution_count": null,
      "outputs": []
    },
    {
      "cell_type": "markdown",
      "source": [
        "2. A partir del siguiente diagrama:"
      ],
      "metadata": {
        "id": "AORQxWI63Bup"
      }
    },
    {
      "cell_type": "markdown",
      "source": [
        "![dia2.png](data:image/png;base64,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)"
      ],
      "metadata": {
        "id": "nJ5KznK45dHp"
      }
    },
    {
      "cell_type": "markdown",
      "source": [
        "Realice los ajustes necesarios para que:\n",
        "\n",
        "\n",
        "*   En la aplicación solo se pueda tener un único Banco, aunque se le puede cambiar su nombre en cualquier momento\n",
        "*   Se pueda ver la información de todos los clientes del banco incluyendo su cédula, nombre, número de cuenta, tipo y saldo\n",
        "*   Se pueda ver el total de los saldos en las cuentas de ahorros\n",
        "*   Se pueda ver el total de los saldos en las cuentas corrientes\n",
        "\n"
      ],
      "metadata": {
        "id": "7y0qeKOZ4VLU"
      }
    },
    {
      "cell_type": "markdown",
      "source": [
        "Modifique el menú para que quede de esta manera:\n",
        "\n",
        "\n",
        "\n",
        "```\n",
        "1. Crear/cambiar nombre Banco\n",
        "2. Agregar Cliente a un Banco\n",
        "3. Ver información clientes\n",
        "4. Ver saldos totales cuentas de ahorros\n",
        "5. Ver saldos totales cuentas corrientes\n",
        "6. Salir\n",
        "```\n",
        "\n"
      ],
      "metadata": {
        "id": "s6YiaTlC6Z1i"
      }
    },
    {
      "cell_type": "code",
      "source": [],
      "metadata": {
        "id": "FBoUQkce7kTi"
      },
      "execution_count": null,
      "outputs": []
    },
    {
      "cell_type": "markdown",
      "source": [
        "3. Implemente dos relaciones de herencia al ejercicio anterior creando una clase CuentaAhorro y otra CuentaCorriente que hereden de la clase Cuenta.  Elimine el atributo tipo de la clase Cuenta y agregue a la clase CuentaAhorro un atributo llamado interés con un método aplicar_interes que incrementa el saldo en el interés dado y a la CuentaCorriente incluir un atributo llamado descuento con un método aplicar_descuento que disminuye el saldo el descuento dado.  La aplicación debe continuar funcionando con los ajustes dados."
      ],
      "metadata": {
        "id": "XOWgtW3-GSnG"
      }
    },
    {
      "cell_type": "code",
      "source": [],
      "metadata": {
        "id": "6_NVa_KQIiT4"
      },
      "execution_count": null,
      "outputs": []
    },
    {
      "cell_type": "markdown",
      "source": [
        "4.  -Ejercicio Adicional- A partir del siguiente diagrama:"
      ],
      "metadata": {
        "id": "vSCX141c74Yz"
      }
    },
    {
      "cell_type": "markdown",
      "source": [
        "![dia4.png](data:image/png;base64,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)"
      ],
      "metadata": {
        "id": "C9D_sNShCXHt"
      }
    },
    {
      "cell_type": "markdown",
      "source": [
        "y teniendo en cuenta la descripción de los siguientes métodos:\n",
        "\n",
        "* **comprar_productos:** Recibe un diccionario con el nombre del producto como\n",
        "llave y la cantidad a comprar como valor y debe incrementar la cantidad\n",
        "en el producto dado, si el producto no se encuentra en la tienda, se debe\n",
        "incluir con un precio inicial de 0.\n",
        "* **vender_productos**: Recibe un diccionario con el nombre del producto como\n",
        "llave y la cantidad a vender como valor y debe disminuir la cantidad en\n",
        "el producto dado, solo teniendo en cuenta a los productos que existen\n",
        "en la tienda.\n",
        "* **ver_inventario**: Muestra el nombre, precio y cantidad de todos los\n",
        "productos que se encuentran en la tienda.\n",
        "* **aumentar_Precio**: Aumenta el precio de un producto dado de acuerdo\n",
        "con el monto a aumentar recibido.\n",
        "* **esta_producto**: Recibe el nombre de un producto y retorna falso o\n",
        "verdadero dependiendo si el producto se encuentra o no en el\n",
        "inventario.\n",
        "* **total_dinero_inventario**: Devuelve el valor del inventario teniendo en\n",
        "cuenta los precios de los productos y las cantidades existentes."
      ],
      "metadata": {
        "id": "VsaaCvPVCY9U"
      }
    },
    {
      "cell_type": "markdown",
      "source": [
        "Compruebe el funcionamiento del programa así:\n",
        "\n",
        "*   Cree una tienda con 3 productos iniciales\n",
        "*   Muestre el inventario inicial\n",
        "*   Compre 20 unidades de un producto existente en la tienda\n",
        "*   Compre 12 unidades de un producto que no exista en la tienda y defina su precio en un valor determinado\n",
        "*  Muestre de nuevo el inventario\n",
        "*  Venda 2 unidades de un producto existente\n",
        "*  Intente vender 1 unidad de un producto inexistente haciendo uso del método esta_producto\n",
        "Muestre de nuevo el inventario\n",
        "*  Aumente el precio a un producto el 10% del precio actual\n",
        "* Muestre de nuevo el inventario\n",
        "*  Muestre el total de dinero del inventario.   \n",
        "\n"
      ],
      "metadata": {
        "id": "PiLVFymgDuxO"
      }
    },
    {
      "cell_type": "code",
      "source": [],
      "metadata": {
        "id": "LCVgB_EXFP-X"
      },
      "execution_count": null,
      "outputs": []
    }
  ]
}